{
 "cells": [
  {
   "cell_type": "markdown",
   "metadata": {},
   "source": [
    "# Fifa Moneyball Project\n",
    "##### Author: Diego Plaza\n",
    "##### Date: May 2022"
   ]
  },
  {
   "cell_type": "code",
   "execution_count": null,
   "metadata": {},
   "outputs": [],
   "source": [
    "import pandas as pd"
   ]
  },
  {
   "cell_type": "code",
   "execution_count": null,
   "metadata": {},
   "outputs": [],
   "source": [
    "url = \"./src/data/fifa21_male2.csv\"\n",
    "df = pd.read_csv(url, low_memory=False)\n"
   ]
  },
  {
   "cell_type": "code",
   "execution_count": null,
   "metadata": {},
   "outputs": [],
   "source": [
    "df.head(5)"
   ]
  },
  {
   "cell_type": "markdown",
   "metadata": {},
   "source": [
    "### To decrease complexity we'll standardize column names"
   ]
  },
  {
   "cell_type": "code",
   "execution_count": null,
   "metadata": {},
   "outputs": [],
   "source": [
    "df.columns = df.columns.str.lower().str.replace(\" \", \"_\")"
   ]
  },
  {
   "cell_type": "code",
   "execution_count": null,
   "metadata": {},
   "outputs": [],
   "source": [
    "df = df.set_index(\"id\")"
   ]
  },
  {
   "cell_type": "code",
   "execution_count": null,
   "metadata": {},
   "outputs": [],
   "source": [
    "df.head(5)"
   ]
  },
  {
   "cell_type": "markdown",
   "metadata": {},
   "source": [
    "## Let's clean the data"
   ]
  },
  {
   "cell_type": "code",
   "execution_count": null,
   "metadata": {},
   "outputs": [],
   "source": [
    "nan_columns = [_column for _column in df.columns if df[_column].isna().sum() or df[_column].empty > 0]\n",
    "qty_nan_per_nan_columns = df[nan_columns].isna().sum()\n",
    "columns_type = df[nan_columns].dtypes\n",
    "nan_df = pd.concat([qty_nan_per_nan_columns, columns_type], axis=1)\n",
    "nan_df.columns = [\"nan_qty\", \"dtype\"]\n",
    "nan_df"
   ]
  },
  {
   "cell_type": "code",
   "execution_count": null,
   "metadata": {},
   "outputs": [],
   "source": [
    "#df = df.drop([], axis=1)\n",
    "columns_outside_scope = ['player_photo', 'club_logo', 'flag_photo', \n",
    "                'gender', 'joined', 'team_&_contract',\n",
    "                'position', 'name']\n",
    "df.drop(columns_outside_scope, inplace=True ,axis=1)\n",
    "df.head(5)"
   ]
  },
  {
   "cell_type": "code",
   "execution_count": null,
   "metadata": {},
   "outputs": [],
   "source": [
    "def contract_interval (x):\n",
    "    if type(x) == int:\n",
    "        if \"On Loan\" in x:\n",
    "            print(x)\n",
    "            return int(x.split(\", \")[1].split(\" On Loan\")[0])\n",
    "        elif \" ~ \" in x:\n",
    "            \n",
    "            return int(x.split(\" ~ \")[1])\n",
    "        else:\n",
    "            return int(x.split()[0])\n",
    "    else:\n",
    "        return 0"
   ]
  },
  {
   "cell_type": "code",
   "execution_count": null,
   "metadata": {},
   "outputs": [],
   "source": [
    "df[\"contract\"].apply(contract_interval).apply(lambda x: int(x) >= 2021)"
   ]
  },
  {
   "cell_type": "markdown",
   "metadata": {},
   "source": [
    "### Who were the best players **\"Best Overall\" (BOV)** score in 2021?"
   ]
  },
  {
   "cell_type": "code",
   "execution_count": null,
   "metadata": {},
   "outputs": [],
   "source": [
    "df.sort_values(by=\"bov\", ascending=False).head(5)"
   ]
  },
  {
   "cell_type": "markdown",
   "metadata": {},
   "source": [
    "### Who were the players with the greatest **\"Potential\" (POT)** score in 2021?"
   ]
  },
  {
   "cell_type": "code",
   "execution_count": null,
   "metadata": {},
   "outputs": [],
   "source": [
    "df.sort_values(by=\"pot\", ascending=False).head(5)"
   ]
  },
  {
   "cell_type": "markdown",
   "metadata": {},
   "source": [
    "### Who were the players with the greatest **\"Overall Rating\" (OVA)** score in 2021?"
   ]
  },
  {
   "cell_type": "code",
   "execution_count": null,
   "metadata": {},
   "outputs": [],
   "source": [
    "df.sort_values(by=\"ova\", ascending=False).head(5)"
   ]
  },
  {
   "cell_type": "markdown",
   "metadata": {},
   "source": [
    "### Which clubs had the best ***\"Overal Rating\" (OVA)*** score in 2021, based on its players ***OVA***?"
   ]
  },
  {
   "cell_type": "code",
   "execution_count": null,
   "metadata": {},
   "outputs": [],
   "source": [
    "df[[\"club\", \"ova\", \"pot\", \"bov\"]].groupby(by=\"club\").sum().sort_values(by=\"ova\", ascending=False).head(5)\n"
   ]
  },
  {
   "cell_type": "markdown",
   "metadata": {},
   "source": [
    "### Which clubs had the best ***\"Potential\" (POT)*** score in 2021, based on its players ***POT***?"
   ]
  },
  {
   "cell_type": "code",
   "execution_count": null,
   "metadata": {},
   "outputs": [],
   "source": [
    "df[[\"club\", \"ova\", \"pot\", \"bov\"]].groupby(by=\"club\").sum().sort_values(by=\"pot\", ascending=False).head(5)"
   ]
  },
  {
   "cell_type": "markdown",
   "metadata": {},
   "source": [
    "### Which clubs had the best ***\"Best Overall\" (BOV)*** score in 2021, based on its players ***BOV***?"
   ]
  },
  {
   "cell_type": "code",
   "execution_count": null,
   "metadata": {},
   "outputs": [],
   "source": [
    "df[[\"club\", \"ova\", \"pot\", \"bov\"]].groupby(by=\"club\").sum().sort_values(by=\"bov\", ascending=False).head(5)"
   ]
  },
  {
   "cell_type": "code",
   "execution_count": null,
   "metadata": {},
   "outputs": [],
   "source": [
    "mancherster_united_squad = df[df[\"club\"] == \"Manchester United\"]\n",
    "mancherster_united_squad.sort_values(by=\"ova\", ascending=False).head(5)"
   ]
  },
  {
   "cell_type": "code",
   "execution_count": null,
   "metadata": {},
   "outputs": [],
   "source": [
    "mancherster_united_squad[mancherster_united_squad[\"contract\"].apply(contract_interval).apply(lambda x: int(x) >= 2021)].head()"
   ]
  },
  {
   "cell_type": "code",
   "execution_count": null,
   "metadata": {},
   "outputs": [],
   "source": [
    "mancherster_united_squad[[\"name\", \"contract\", \"loan_date_end\", \"team_&_contract\", \"release_clause\"]]"
   ]
  }
 ],
 "metadata": {
  "interpreter": {
   "hash": "7d6993cb2f9ce9a59d5d7380609d9cb5192a9dedd2735a011418ad9e827eb538"
  },
  "kernelspec": {
   "display_name": "Python 3.9.12 64-bit",
   "language": "python",
   "name": "python3"
  },
  "language_info": {
   "codemirror_mode": {
    "name": "ipython",
    "version": 3
   },
   "file_extension": ".py",
   "mimetype": "text/x-python",
   "name": "python",
   "nbconvert_exporter": "python",
   "pygments_lexer": "ipython3",
   "version": "3.9.12"
  },
  "orig_nbformat": 4
 },
 "nbformat": 4,
 "nbformat_minor": 2
}
