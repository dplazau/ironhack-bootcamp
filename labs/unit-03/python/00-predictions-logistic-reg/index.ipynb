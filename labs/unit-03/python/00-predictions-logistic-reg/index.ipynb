{
 "cells": [
  {
   "cell_type": "code",
   "execution_count": 8,
   "metadata": {},
   "outputs": [],
   "source": [
    "import psycopg2 as pg\n",
    "import pandas as pd"
   ]
  },
  {
   "cell_type": "code",
   "execution_count": 9,
   "metadata": {},
   "outputs": [],
   "source": [
    "def get_query(q, cur):\n",
    "    cur.execute(q)\n",
    "    return cur.fetchall(), [row[0] for row in cur.description]\n",
    "\n",
    "def query_controller(query):\n",
    "    try:\n",
    "        DBNAME = \"sakila\"\n",
    "        USER_NAME = \"postgres\"\n",
    "        USER_PASWD = \"9182\"\n",
    "        HOST = \"localhost\"\n",
    "        conn = pg.connect(\n",
    "            f\" \\\n",
    "            dbname={DBNAME} \\\n",
    "            user={USER_NAME} \\\n",
    "            password={USER_PASWD} \\\n",
    "            host={HOST}\"\n",
    "        )\n",
    "        _cur = conn.cursor()\n",
    "        return get_query(query, _cur)\n",
    "    except:\n",
    "        raise\n",
    "    finally:\n",
    "        _cur.close()\n",
    "        conn.close()"
   ]
  },
  {
   "cell_type": "code",
   "execution_count": 10,
   "metadata": {},
   "outputs": [],
   "source": [
    "QUERY_01 = \"\\\n",
    "    select\\\n",
    "        f.film_id,\\\n",
    "        f.title,\\\n",
    "        f.rating,\\\n",
    "        i.inventory_id,\\\n",
    "        r.rental_id,\\\n",
    "        r.customer_id,\\\n",
    "        r.rental_date,\\\n",
    "        r.return_date\\\n",
    "    from film f \\\n",
    "    join inventory i using(film_id) \\\n",
    "    join rental r using(inventory_id)\""
   ]
  },
  {
   "cell_type": "code",
   "execution_count": 11,
   "metadata": {},
   "outputs": [],
   "source": [
    "result = query_controller(query=QUERY_01)"
   ]
  },
  {
   "cell_type": "code",
   "execution_count": 12,
   "metadata": {},
   "outputs": [],
   "source": [
    "df = pd.DataFrame(data=result[0], columns=result[1])"
   ]
  },
  {
   "cell_type": "code",
   "execution_count": 13,
   "metadata": {},
   "outputs": [
    {
     "data": {
      "text/html": [
       "<div>\n",
       "<style scoped>\n",
       "    .dataframe tbody tr th:only-of-type {\n",
       "        vertical-align: middle;\n",
       "    }\n",
       "\n",
       "    .dataframe tbody tr th {\n",
       "        vertical-align: top;\n",
       "    }\n",
       "\n",
       "    .dataframe thead th {\n",
       "        text-align: right;\n",
       "    }\n",
       "</style>\n",
       "<table border=\"1\" class=\"dataframe\">\n",
       "  <thead>\n",
       "    <tr style=\"text-align: right;\">\n",
       "      <th>inventory_id</th>\n",
       "      <th>367</th>\n",
       "      <th>1525</th>\n",
       "      <th>1711</th>\n",
       "      <th>2452</th>\n",
       "      <th>2079</th>\n",
       "    </tr>\n",
       "  </thead>\n",
       "  <tbody>\n",
       "    <tr>\n",
       "      <th>film_id</th>\n",
       "      <td>80</td>\n",
       "      <td>333</td>\n",
       "      <td>373</td>\n",
       "      <td>535</td>\n",
       "      <td>450</td>\n",
       "    </tr>\n",
       "    <tr>\n",
       "      <th>title</th>\n",
       "      <td>BLANKET BEVERLY</td>\n",
       "      <td>FREAKY POCUS</td>\n",
       "      <td>GRADUATE LORD</td>\n",
       "      <td>LOVE SUICIDES</td>\n",
       "      <td>IDOLS SNATCHERS</td>\n",
       "    </tr>\n",
       "    <tr>\n",
       "      <th>rating</th>\n",
       "      <td>G</td>\n",
       "      <td>R</td>\n",
       "      <td>G</td>\n",
       "      <td>R</td>\n",
       "      <td>NC-17</td>\n",
       "    </tr>\n",
       "    <tr>\n",
       "      <th>rental_id</th>\n",
       "      <td>1</td>\n",
       "      <td>2</td>\n",
       "      <td>3</td>\n",
       "      <td>4</td>\n",
       "      <td>5</td>\n",
       "    </tr>\n",
       "    <tr>\n",
       "      <th>customer_id</th>\n",
       "      <td>130</td>\n",
       "      <td>459</td>\n",
       "      <td>408</td>\n",
       "      <td>333</td>\n",
       "      <td>222</td>\n",
       "    </tr>\n",
       "    <tr>\n",
       "      <th>rental_date</th>\n",
       "      <td>2005-05-24 22:53:30</td>\n",
       "      <td>2005-05-24 22:54:33</td>\n",
       "      <td>2005-05-24 23:03:39</td>\n",
       "      <td>2005-05-24 23:04:41</td>\n",
       "      <td>2005-05-24 23:05:21</td>\n",
       "    </tr>\n",
       "    <tr>\n",
       "      <th>return_date</th>\n",
       "      <td>2005-05-26 22:04:30</td>\n",
       "      <td>2005-05-28 19:40:33</td>\n",
       "      <td>2005-06-01 22:12:39</td>\n",
       "      <td>2005-06-03 01:43:41</td>\n",
       "      <td>2005-06-02 04:33:21</td>\n",
       "    </tr>\n",
       "  </tbody>\n",
       "</table>\n",
       "</div>"
      ],
      "text/plain": [
       "inventory_id                 367                  1525                 1711  \\\n",
       "film_id                        80                  333                  373   \n",
       "title             BLANKET BEVERLY         FREAKY POCUS        GRADUATE LORD   \n",
       "rating                          G                    R                    G   \n",
       "rental_id                       1                    2                    3   \n",
       "customer_id                   130                  459                  408   \n",
       "rental_date   2005-05-24 22:53:30  2005-05-24 22:54:33  2005-05-24 23:03:39   \n",
       "return_date   2005-05-26 22:04:30  2005-05-28 19:40:33  2005-06-01 22:12:39   \n",
       "\n",
       "inventory_id                 2452                 2079  \n",
       "film_id                       535                  450  \n",
       "title               LOVE SUICIDES      IDOLS SNATCHERS  \n",
       "rating                          R                NC-17  \n",
       "rental_id                       4                    5  \n",
       "customer_id                   333                  222  \n",
       "rental_date   2005-05-24 23:04:41  2005-05-24 23:05:21  \n",
       "return_date   2005-06-03 01:43:41  2005-06-02 04:33:21  "
      ]
     },
     "execution_count": 13,
     "metadata": {},
     "output_type": "execute_result"
    }
   ],
   "source": [
    "df = df.set_index(\"inventory_id\")\n",
    "df.head().transpose()"
   ]
  },
  {
   "cell_type": "code",
   "execution_count": null,
   "metadata": {},
   "outputs": [],
   "source": []
  },
  {
   "cell_type": "code",
   "execution_count": null,
   "metadata": {},
   "outputs": [],
   "source": []
  }
 ],
 "metadata": {
  "interpreter": {
   "hash": "7d6993cb2f9ce9a59d5d7380609d9cb5192a9dedd2735a011418ad9e827eb538"
  },
  "kernelspec": {
   "display_name": "Python 3.9.12 64-bit",
   "language": "python",
   "name": "python3"
  },
  "language_info": {
   "codemirror_mode": {
    "name": "ipython",
    "version": 3
   },
   "file_extension": ".py",
   "mimetype": "text/x-python",
   "name": "python",
   "nbconvert_exporter": "python",
   "pygments_lexer": "ipython3",
   "version": "3.9.13"
  },
  "orig_nbformat": 4
 },
 "nbformat": 4,
 "nbformat_minor": 2
}
