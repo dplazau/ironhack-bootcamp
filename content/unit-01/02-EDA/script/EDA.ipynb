{
 "cells": [
  {
   "cell_type": "markdown",
   "metadata": {},
   "source": [
    "## Descriptive Statistics - EDA\n",
    "\n",
    "Exploratory data analysis (EDA) is amongst the first steps of analyzing data. It is usually done with descriptive statistics, where you'll summarize the statistical aspects of your dataset and start to unravel your insights. Further on, I highly recommend using data visualization in this step."
   ]
  },
  {
   "cell_type": "code",
   "execution_count": 1,
   "metadata": {},
   "outputs": [
    {
     "name": "stdout",
     "output_type": "stream",
     "text": [
      "Requirement already satisfied: matplotlib in c:\\python39\\lib\\site-packages (3.5.1)\n",
      "Requirement already satisfied: pillow>=6.2.0 in c:\\python39\\lib\\site-packages (from matplotlib) (9.1.0)\n",
      "Requirement already satisfied: cycler>=0.10 in c:\\python39\\lib\\site-packages (from matplotlib) (0.11.0)\n",
      "Requirement already satisfied: packaging>=20.0 in c:\\python39\\lib\\site-packages (from matplotlib) (21.3)\n",
      "Requirement already satisfied: numpy>=1.17 in c:\\python39\\lib\\site-packages (from matplotlib) (1.22.3)\n",
      "Requirement already satisfied: pyparsing>=2.2.1 in c:\\python39\\lib\\site-packages (from matplotlib) (3.0.8)\n",
      "Requirement already satisfied: kiwisolver>=1.0.1 in c:\\python39\\lib\\site-packages (from matplotlib) (1.4.2)\n",
      "Requirement already satisfied: fonttools>=4.22.0 in c:\\python39\\lib\\site-packages (from matplotlib) (4.32.0)\n",
      "Requirement already satisfied: python-dateutil>=2.7 in c:\\users\\diego\\appdata\\roaming\\python\\python39\\site-packages (from matplotlib) (2.8.2)\n",
      "Requirement already satisfied: six>=1.5 in c:\\users\\diego\\appdata\\roaming\\python\\python39\\site-packages (from python-dateutil>=2.7->matplotlib) (1.16.0)\n",
      "Note: you may need to restart the kernel to use updated packages.\n"
     ]
    },
    {
     "name": "stderr",
     "output_type": "stream",
     "text": [
      "WARNING: You are using pip version 20.2.3; however, version 22.0.4 is available.\n",
      "You should consider upgrading via the 'C:\\Python39\\python.exe -m pip install --upgrade pip' command.\n"
     ]
    },
    {
     "name": "stdout",
     "output_type": "stream",
     "text": [
      "Requirement already satisfied: seaborn in c:\\python39\\lib\\site-packages (0.11.2)\n",
      "Requirement already satisfied: matplotlib>=2.2 in c:\\python39\\lib\\site-packages (from seaborn) (3.5.1)\n",
      "Requirement already satisfied: numpy>=1.15 in c:\\python39\\lib\\site-packages (from seaborn) (1.22.3)\n",
      "Requirement already satisfied: pandas>=0.23 in c:\\python39\\lib\\site-packages (from seaborn) (1.4.1)\n",
      "Requirement already satisfied: scipy>=1.0 in c:\\python39\\lib\\site-packages (from seaborn) (1.8.0)\n",
      "Requirement already satisfied: python-dateutil>=2.7 in c:\\users\\diego\\appdata\\roaming\\python\\python39\\site-packages (from matplotlib>=2.2->seaborn) (2.8.2)\n",
      "Requirement already satisfied: fonttools>=4.22.0 in c:\\python39\\lib\\site-packages (from matplotlib>=2.2->seaborn) (4.32.0)\n",
      "Requirement already satisfied: pyparsing>=2.2.1 in c:\\python39\\lib\\site-packages (from matplotlib>=2.2->seaborn) (3.0.8)\n",
      "Requirement already satisfied: packaging>=20.0 in c:\\python39\\lib\\site-packages (from matplotlib>=2.2->seaborn) (21.3)\n",
      "Requirement already satisfied: pillow>=6.2.0 in c:\\python39\\lib\\site-packages (from matplotlib>=2.2->seaborn) (9.1.0)\n",
      "Requirement already satisfied: cycler>=0.10 in c:\\python39\\lib\\site-packages (from matplotlib>=2.2->seaborn) (0.11.0)\n",
      "Requirement already satisfied: kiwisolver>=1.0.1 in c:\\python39\\lib\\site-packages (from matplotlib>=2.2->seaborn) (1.4.2)\n",
      "Requirement already satisfied: pytz>=2020.1 in c:\\python39\\lib\\site-packages (from pandas>=0.23->seaborn) (2022.1)\n",
      "Requirement already satisfied: six>=1.5 in c:\\users\\diego\\appdata\\roaming\\python\\python39\\site-packages (from python-dateutil>=2.7->matplotlib>=2.2->seaborn) (1.16.0)\n",
      "Note: you may need to restart the kernel to use updated packages.\n"
     ]
    },
    {
     "name": "stderr",
     "output_type": "stream",
     "text": [
      "WARNING: You are using pip version 20.2.3; however, version 22.0.4 is available.\n",
      "You should consider upgrading via the 'C:\\Python39\\python.exe -m pip install --upgrade pip' command.\n"
     ]
    }
   ],
   "source": [
    "%pip install matplotlib\n",
    "%pip install seaborn"
   ]
  },
  {
   "cell_type": "code",
   "execution_count": 2,
   "metadata": {},
   "outputs": [],
   "source": [
    "import pandas as pd\n",
    "import numpy as np\n",
    "import matplotlib.pyplot as plt\n",
    "import seaborn as sns\n",
    "import scipy.stats as stats"
   ]
  },
  {
   "cell_type": "code",
   "execution_count": 3,
   "metadata": {},
   "outputs": [],
   "source": [
    "pd.set_option('display.max_columns', None) # displays all columns in dfs\n",
    "\n",
    "import warnings\n",
    "warnings.filterwarnings('ignore') # no more warnings "
   ]
  },
  {
   "cell_type": "markdown",
   "metadata": {},
   "source": [
    "DOCS for Seaborn = https://seaborn.pydata.org/index.html"
   ]
  },
  {
   "cell_type": "code",
   "execution_count": 7,
   "metadata": {},
   "outputs": [
    {
     "data": {
      "text/html": [
       "<div>\n",
       "<style scoped>\n",
       "    .dataframe tbody tr th:only-of-type {\n",
       "        vertical-align: middle;\n",
       "    }\n",
       "\n",
       "    .dataframe tbody tr th {\n",
       "        vertical-align: top;\n",
       "    }\n",
       "\n",
       "    .dataframe thead th {\n",
       "        text-align: right;\n",
       "    }\n",
       "</style>\n",
       "<table border=\"1\" class=\"dataframe\">\n",
       "  <thead>\n",
       "    <tr style=\"text-align: right;\">\n",
       "      <th></th>\n",
       "      <th>id</th>\n",
       "      <th>state</th>\n",
       "      <th>gender</th>\n",
       "      <th>median_home_val</th>\n",
       "      <th>median_household_income</th>\n",
       "      <th>ic2</th>\n",
       "      <th>ic3</th>\n",
       "      <th>ic4</th>\n",
       "      <th>ic5</th>\n",
       "      <th>avggift</th>\n",
       "      <th>target_d</th>\n",
       "    </tr>\n",
       "  </thead>\n",
       "  <tbody>\n",
       "    <tr>\n",
       "      <th>0</th>\n",
       "      <td>44060</td>\n",
       "      <td>FL</td>\n",
       "      <td>M</td>\n",
       "      <td>1158.437751</td>\n",
       "      <td>392</td>\n",
       "      <td>430</td>\n",
       "      <td>466</td>\n",
       "      <td>520</td>\n",
       "      <td>21975</td>\n",
       "      <td>28.000000</td>\n",
       "      <td>100.0</td>\n",
       "    </tr>\n",
       "    <tr>\n",
       "      <th>1</th>\n",
       "      <td>96093</td>\n",
       "      <td>IL</td>\n",
       "      <td>M</td>\n",
       "      <td>537.000000</td>\n",
       "      <td>365</td>\n",
       "      <td>415</td>\n",
       "      <td>410</td>\n",
       "      <td>473</td>\n",
       "      <td>19387</td>\n",
       "      <td>5.666667</td>\n",
       "      <td>7.0</td>\n",
       "    </tr>\n",
       "    <tr>\n",
       "      <th>2</th>\n",
       "      <td>43333</td>\n",
       "      <td>FL</td>\n",
       "      <td>F</td>\n",
       "      <td>725.000000</td>\n",
       "      <td>301</td>\n",
       "      <td>340</td>\n",
       "      <td>361</td>\n",
       "      <td>436</td>\n",
       "      <td>18837</td>\n",
       "      <td>4.111111</td>\n",
       "      <td>5.0</td>\n",
       "    </tr>\n",
       "    <tr>\n",
       "      <th>3</th>\n",
       "      <td>21885</td>\n",
       "      <td>NC</td>\n",
       "      <td>M</td>\n",
       "      <td>1158.437751</td>\n",
       "      <td>401</td>\n",
       "      <td>407</td>\n",
       "      <td>399</td>\n",
       "      <td>413</td>\n",
       "      <td>14014</td>\n",
       "      <td>27.277778</td>\n",
       "      <td>38.0</td>\n",
       "    </tr>\n",
       "    <tr>\n",
       "      <th>4</th>\n",
       "      <td>190108</td>\n",
       "      <td>FL</td>\n",
       "      <td>F</td>\n",
       "      <td>995.000000</td>\n",
       "      <td>252</td>\n",
       "      <td>280</td>\n",
       "      <td>316</td>\n",
       "      <td>348</td>\n",
       "      <td>17991</td>\n",
       "      <td>6.000000</td>\n",
       "      <td>5.0</td>\n",
       "    </tr>\n",
       "    <tr>\n",
       "      <th>5</th>\n",
       "      <td>100640</td>\n",
       "      <td>IL</td>\n",
       "      <td>M</td>\n",
       "      <td>764.000000</td>\n",
       "      <td>457</td>\n",
       "      <td>477</td>\n",
       "      <td>480</td>\n",
       "      <td>501</td>\n",
       "      <td>16022</td>\n",
       "      <td>25.571429</td>\n",
       "      <td>30.0</td>\n",
       "    </tr>\n",
       "    <tr>\n",
       "      <th>6</th>\n",
       "      <td>18581</td>\n",
       "      <td>NC</td>\n",
       "      <td>female</td>\n",
       "      <td>775.000000</td>\n",
       "      <td>318</td>\n",
       "      <td>364</td>\n",
       "      <td>380</td>\n",
       "      <td>419</td>\n",
       "      <td>13491</td>\n",
       "      <td>4.625000</td>\n",
       "      <td>12.0</td>\n",
       "    </tr>\n",
       "    <tr>\n",
       "      <th>7</th>\n",
       "      <td>119038</td>\n",
       "      <td>TX</td>\n",
       "      <td>M</td>\n",
       "      <td>890.000000</td>\n",
       "      <td>519</td>\n",
       "      <td>525</td>\n",
       "      <td>551</td>\n",
       "      <td>560</td>\n",
       "      <td>17872</td>\n",
       "      <td>6.175000</td>\n",
       "      <td>7.0</td>\n",
       "    </tr>\n",
       "    <tr>\n",
       "      <th>8</th>\n",
       "      <td>173223</td>\n",
       "      <td>CA</td>\n",
       "      <td>F</td>\n",
       "      <td>1158.437751</td>\n",
       "      <td>184</td>\n",
       "      <td>206</td>\n",
       "      <td>235</td>\n",
       "      <td>250</td>\n",
       "      <td>8708</td>\n",
       "      <td>8.818182</td>\n",
       "      <td>10.0</td>\n",
       "    </tr>\n",
       "    <tr>\n",
       "      <th>9</th>\n",
       "      <td>141720</td>\n",
       "      <td>NV</td>\n",
       "      <td>F</td>\n",
       "      <td>1569.000000</td>\n",
       "      <td>673</td>\n",
       "      <td>672</td>\n",
       "      <td>785</td>\n",
       "      <td>781</td>\n",
       "      <td>25775</td>\n",
       "      <td>13.000000</td>\n",
       "      <td>5.0</td>\n",
       "    </tr>\n",
       "    <tr>\n",
       "      <th>10</th>\n",
       "      <td>186272</td>\n",
       "      <td>CA</td>\n",
       "      <td>F</td>\n",
       "      <td>3515.000000</td>\n",
       "      <td>521</td>\n",
       "      <td>565</td>\n",
       "      <td>549</td>\n",
       "      <td>588</td>\n",
       "      <td>20068</td>\n",
       "      <td>8.640000</td>\n",
       "      <td>10.0</td>\n",
       "    </tr>\n",
       "    <tr>\n",
       "      <th>11</th>\n",
       "      <td>154301</td>\n",
       "      <td>Cali</td>\n",
       "      <td>F</td>\n",
       "      <td>1026.000000</td>\n",
       "      <td>459</td>\n",
       "      <td>470</td>\n",
       "      <td>491</td>\n",
       "      <td>496</td>\n",
       "      <td>13803</td>\n",
       "      <td>11.250000</td>\n",
       "      <td>10.0</td>\n",
       "    </tr>\n",
       "    <tr>\n",
       "      <th>12</th>\n",
       "      <td>189722</td>\n",
       "      <td>AP</td>\n",
       "      <td>Male</td>\n",
       "      <td>0.000000</td>\n",
       "      <td>0</td>\n",
       "      <td>0</td>\n",
       "      <td>0</td>\n",
       "      <td>0</td>\n",
       "      <td>0</td>\n",
       "      <td>5.727273</td>\n",
       "      <td>6.0</td>\n",
       "    </tr>\n",
       "    <tr>\n",
       "      <th>13</th>\n",
       "      <td>73699</td>\n",
       "      <td>MI</td>\n",
       "      <td>F</td>\n",
       "      <td>890.000000</td>\n",
       "      <td>463</td>\n",
       "      <td>474</td>\n",
       "      <td>512</td>\n",
       "      <td>523</td>\n",
       "      <td>9493</td>\n",
       "      <td>11.285714</td>\n",
       "      <td>15.0</td>\n",
       "    </tr>\n",
       "    <tr>\n",
       "      <th>14</th>\n",
       "      <td>31977</td>\n",
       "      <td>FL</td>\n",
       "      <td>F</td>\n",
       "      <td>1513.000000</td>\n",
       "      <td>521</td>\n",
       "      <td>599</td>\n",
       "      <td>615</td>\n",
       "      <td>702</td>\n",
       "      <td>28124</td>\n",
       "      <td>18.500000</td>\n",
       "      <td>28.0</td>\n",
       "    </tr>\n",
       "  </tbody>\n",
       "</table>\n",
       "</div>"
      ],
      "text/plain": [
       "        id state  gender  median_home_val  median_household_income  ic2  ic3  \\\n",
       "0    44060    FL       M      1158.437751                      392  430  466   \n",
       "1    96093    IL       M       537.000000                      365  415  410   \n",
       "2    43333    FL       F       725.000000                      301  340  361   \n",
       "3    21885    NC       M      1158.437751                      401  407  399   \n",
       "4   190108    FL       F       995.000000                      252  280  316   \n",
       "5   100640    IL       M       764.000000                      457  477  480   \n",
       "6    18581    NC  female       775.000000                      318  364  380   \n",
       "7   119038    TX       M       890.000000                      519  525  551   \n",
       "8   173223    CA       F      1158.437751                      184  206  235   \n",
       "9   141720    NV       F      1569.000000                      673  672  785   \n",
       "10  186272    CA       F      3515.000000                      521  565  549   \n",
       "11  154301  Cali       F      1026.000000                      459  470  491   \n",
       "12  189722    AP    Male         0.000000                        0    0    0   \n",
       "13   73699    MI       F       890.000000                      463  474  512   \n",
       "14   31977    FL       F      1513.000000                      521  599  615   \n",
       "\n",
       "    ic4    ic5    avggift  target_d  \n",
       "0   520  21975  28.000000     100.0  \n",
       "1   473  19387   5.666667       7.0  \n",
       "2   436  18837   4.111111       5.0  \n",
       "3   413  14014  27.277778      38.0  \n",
       "4   348  17991   6.000000       5.0  \n",
       "5   501  16022  25.571429      30.0  \n",
       "6   419  13491   4.625000      12.0  \n",
       "7   560  17872   6.175000       7.0  \n",
       "8   250   8708   8.818182      10.0  \n",
       "9   781  25775  13.000000       5.0  \n",
       "10  588  20068   8.640000      10.0  \n",
       "11  496  13803  11.250000      10.0  \n",
       "12    0      0   5.727273       6.0  \n",
       "13  523   9493  11.285714      15.0  \n",
       "14  702  28124  18.500000      28.0  "
      ]
     },
     "execution_count": 7,
     "metadata": {},
     "output_type": "execute_result"
    }
   ],
   "source": [
    "data = pd.read_csv('../data/merged_clean_ver2.csv')\n",
    "data.head(15)"
   ]
  },
  {
   "cell_type": "code",
   "execution_count": 5,
   "metadata": {},
   "outputs": [
    {
     "name": "stdout",
     "output_type": "stream",
     "text": [
      "<class 'pandas.core.frame.DataFrame'>\n",
      "RangeIndex: 3993 entries, 0 to 3992\n",
      "Data columns (total 11 columns):\n",
      " #   Column                   Non-Null Count  Dtype  \n",
      "---  ------                   --------------  -----  \n",
      " 0   id                       3993 non-null   int64  \n",
      " 1   state                    3993 non-null   object \n",
      " 2   gender                   3993 non-null   object \n",
      " 3   median_home_val          3993 non-null   float64\n",
      " 4   median_household_income  3993 non-null   int64  \n",
      " 5   ic2                      3993 non-null   int64  \n",
      " 6   ic3                      3993 non-null   int64  \n",
      " 7   ic4                      3993 non-null   int64  \n",
      " 8   ic5                      3993 non-null   int64  \n",
      " 9   avggift                  3993 non-null   float64\n",
      " 10  target_d                 3993 non-null   float64\n",
      "dtypes: float64(3), int64(6), object(2)\n",
      "memory usage: 343.3+ KB\n"
     ]
    }
   ],
   "source": [
    "# data.dtypes\n",
    "# data.describe()#.T # include=[np.number] # \n",
    "data.info()"
   ]
  },
  {
   "cell_type": "code",
   "execution_count": 6,
   "metadata": {},
   "outputs": [
    {
     "data": {
      "text/html": [
       "<div>\n",
       "<style scoped>\n",
       "    .dataframe tbody tr th:only-of-type {\n",
       "        vertical-align: middle;\n",
       "    }\n",
       "\n",
       "    .dataframe tbody tr th {\n",
       "        vertical-align: top;\n",
       "    }\n",
       "\n",
       "    .dataframe thead th {\n",
       "        text-align: right;\n",
       "    }\n",
       "</style>\n",
       "<table border=\"1\" class=\"dataframe\">\n",
       "  <thead>\n",
       "    <tr style=\"text-align: right;\">\n",
       "      <th></th>\n",
       "      <th>count</th>\n",
       "      <th>mean</th>\n",
       "      <th>std</th>\n",
       "      <th>min</th>\n",
       "      <th>25%</th>\n",
       "      <th>50%</th>\n",
       "      <th>75%</th>\n",
       "      <th>max</th>\n",
       "    </tr>\n",
       "  </thead>\n",
       "  <tbody>\n",
       "    <tr>\n",
       "      <th>id</th>\n",
       "      <td>3993.0</td>\n",
       "      <td>98929.308039</td>\n",
       "      <td>58179.839090</td>\n",
       "      <td>12.00000</td>\n",
       "      <td>46153.0000</td>\n",
       "      <td>101432.0</td>\n",
       "      <td>151653.000000</td>\n",
       "      <td>191779.0</td>\n",
       "    </tr>\n",
       "    <tr>\n",
       "      <th>median_home_val</th>\n",
       "      <td>3993.0</td>\n",
       "      <td>1158.437751</td>\n",
       "      <td>1033.485773</td>\n",
       "      <td>0.00000</td>\n",
       "      <td>548.0000</td>\n",
       "      <td>803.0</td>\n",
       "      <td>1349.000000</td>\n",
       "      <td>5982.0</td>\n",
       "    </tr>\n",
       "    <tr>\n",
       "      <th>median_household_income</th>\n",
       "      <td>3993.0</td>\n",
       "      <td>351.622840</td>\n",
       "      <td>168.488445</td>\n",
       "      <td>0.00000</td>\n",
       "      <td>239.0000</td>\n",
       "      <td>318.0</td>\n",
       "      <td>425.000000</td>\n",
       "      <td>1500.0</td>\n",
       "    </tr>\n",
       "    <tr>\n",
       "      <th>ic2</th>\n",
       "      <td>3993.0</td>\n",
       "      <td>400.713248</td>\n",
       "      <td>180.568500</td>\n",
       "      <td>0.00000</td>\n",
       "      <td>284.0000</td>\n",
       "      <td>366.0</td>\n",
       "      <td>478.000000</td>\n",
       "      <td>1500.0</td>\n",
       "    </tr>\n",
       "    <tr>\n",
       "      <th>ic3</th>\n",
       "      <td>3993.0</td>\n",
       "      <td>399.876283</td>\n",
       "      <td>164.822741</td>\n",
       "      <td>0.00000</td>\n",
       "      <td>287.0000</td>\n",
       "      <td>365.0</td>\n",
       "      <td>480.000000</td>\n",
       "      <td>1311.0</td>\n",
       "    </tr>\n",
       "    <tr>\n",
       "      <th>ic4</th>\n",
       "      <td>3993.0</td>\n",
       "      <td>444.732031</td>\n",
       "      <td>175.004178</td>\n",
       "      <td>0.00000</td>\n",
       "      <td>325.0000</td>\n",
       "      <td>410.0</td>\n",
       "      <td>528.000000</td>\n",
       "      <td>1331.0</td>\n",
       "    </tr>\n",
       "    <tr>\n",
       "      <th>ic5</th>\n",
       "      <td>3993.0</td>\n",
       "      <td>16456.413724</td>\n",
       "      <td>9455.318118</td>\n",
       "      <td>0.00000</td>\n",
       "      <td>11136.0000</td>\n",
       "      <td>14356.0</td>\n",
       "      <td>18780.000000</td>\n",
       "      <td>174523.0</td>\n",
       "    </tr>\n",
       "    <tr>\n",
       "      <th>avggift</th>\n",
       "      <td>3993.0</td>\n",
       "      <td>11.785117</td>\n",
       "      <td>10.172672</td>\n",
       "      <td>2.26087</td>\n",
       "      <td>7.1875</td>\n",
       "      <td>10.0</td>\n",
       "      <td>14.428571</td>\n",
       "      <td>450.0</td>\n",
       "    </tr>\n",
       "    <tr>\n",
       "      <th>target_d</th>\n",
       "      <td>3993.0</td>\n",
       "      <td>15.665036</td>\n",
       "      <td>12.703041</td>\n",
       "      <td>1.00000</td>\n",
       "      <td>10.0000</td>\n",
       "      <td>14.0</td>\n",
       "      <td>20.000000</td>\n",
       "      <td>200.0</td>\n",
       "    </tr>\n",
       "  </tbody>\n",
       "</table>\n",
       "</div>"
      ],
      "text/plain": [
       "                          count          mean           std       min  \\\n",
       "id                       3993.0  98929.308039  58179.839090  12.00000   \n",
       "median_home_val          3993.0   1158.437751   1033.485773   0.00000   \n",
       "median_household_income  3993.0    351.622840    168.488445   0.00000   \n",
       "ic2                      3993.0    400.713248    180.568500   0.00000   \n",
       "ic3                      3993.0    399.876283    164.822741   0.00000   \n",
       "ic4                      3993.0    444.732031    175.004178   0.00000   \n",
       "ic5                      3993.0  16456.413724   9455.318118   0.00000   \n",
       "avggift                  3993.0     11.785117     10.172672   2.26087   \n",
       "target_d                 3993.0     15.665036     12.703041   1.00000   \n",
       "\n",
       "                                25%       50%            75%       max  \n",
       "id                       46153.0000  101432.0  151653.000000  191779.0  \n",
       "median_home_val            548.0000     803.0    1349.000000    5982.0  \n",
       "median_household_income    239.0000     318.0     425.000000    1500.0  \n",
       "ic2                        284.0000     366.0     478.000000    1500.0  \n",
       "ic3                        287.0000     365.0     480.000000    1311.0  \n",
       "ic4                        325.0000     410.0     528.000000    1331.0  \n",
       "ic5                      11136.0000   14356.0   18780.000000  174523.0  \n",
       "avggift                      7.1875      10.0      14.428571     450.0  \n",
       "target_d                    10.0000      14.0      20.000000     200.0  "
      ]
     },
     "metadata": {},
     "output_type": "display_data"
    },
    {
     "data": {
      "text/html": [
       "<div>\n",
       "<style scoped>\n",
       "    .dataframe tbody tr th:only-of-type {\n",
       "        vertical-align: middle;\n",
       "    }\n",
       "\n",
       "    .dataframe tbody tr th {\n",
       "        vertical-align: top;\n",
       "    }\n",
       "\n",
       "    .dataframe thead th {\n",
       "        text-align: right;\n",
       "    }\n",
       "</style>\n",
       "<table border=\"1\" class=\"dataframe\">\n",
       "  <thead>\n",
       "    <tr style=\"text-align: right;\">\n",
       "      <th></th>\n",
       "      <th>count</th>\n",
       "      <th>mean</th>\n",
       "      <th>std</th>\n",
       "      <th>min</th>\n",
       "      <th>25%</th>\n",
       "      <th>50%</th>\n",
       "      <th>75%</th>\n",
       "      <th>max</th>\n",
       "      <th>iqr</th>\n",
       "    </tr>\n",
       "  </thead>\n",
       "  <tbody>\n",
       "    <tr>\n",
       "      <th>id</th>\n",
       "      <td>3993.0</td>\n",
       "      <td>98929.0</td>\n",
       "      <td>58180.0</td>\n",
       "      <td>12.0</td>\n",
       "      <td>46153.0</td>\n",
       "      <td>101432.0</td>\n",
       "      <td>151653.0</td>\n",
       "      <td>191779.0</td>\n",
       "      <td>105500.0</td>\n",
       "    </tr>\n",
       "    <tr>\n",
       "      <th>median_home_val</th>\n",
       "      <td>3993.0</td>\n",
       "      <td>1158.0</td>\n",
       "      <td>1033.0</td>\n",
       "      <td>0.0</td>\n",
       "      <td>548.0</td>\n",
       "      <td>803.0</td>\n",
       "      <td>1349.0</td>\n",
       "      <td>5982.0</td>\n",
       "      <td>801.0</td>\n",
       "    </tr>\n",
       "    <tr>\n",
       "      <th>median_household_income</th>\n",
       "      <td>3993.0</td>\n",
       "      <td>352.0</td>\n",
       "      <td>168.0</td>\n",
       "      <td>0.0</td>\n",
       "      <td>239.0</td>\n",
       "      <td>318.0</td>\n",
       "      <td>425.0</td>\n",
       "      <td>1500.0</td>\n",
       "      <td>186.0</td>\n",
       "    </tr>\n",
       "    <tr>\n",
       "      <th>ic2</th>\n",
       "      <td>3993.0</td>\n",
       "      <td>401.0</td>\n",
       "      <td>181.0</td>\n",
       "      <td>0.0</td>\n",
       "      <td>284.0</td>\n",
       "      <td>366.0</td>\n",
       "      <td>478.0</td>\n",
       "      <td>1500.0</td>\n",
       "      <td>194.0</td>\n",
       "    </tr>\n",
       "    <tr>\n",
       "      <th>ic3</th>\n",
       "      <td>3993.0</td>\n",
       "      <td>400.0</td>\n",
       "      <td>165.0</td>\n",
       "      <td>0.0</td>\n",
       "      <td>287.0</td>\n",
       "      <td>365.0</td>\n",
       "      <td>480.0</td>\n",
       "      <td>1311.0</td>\n",
       "      <td>193.0</td>\n",
       "    </tr>\n",
       "    <tr>\n",
       "      <th>ic4</th>\n",
       "      <td>3993.0</td>\n",
       "      <td>445.0</td>\n",
       "      <td>175.0</td>\n",
       "      <td>0.0</td>\n",
       "      <td>325.0</td>\n",
       "      <td>410.0</td>\n",
       "      <td>528.0</td>\n",
       "      <td>1331.0</td>\n",
       "      <td>203.0</td>\n",
       "    </tr>\n",
       "    <tr>\n",
       "      <th>ic5</th>\n",
       "      <td>3993.0</td>\n",
       "      <td>16456.0</td>\n",
       "      <td>9455.0</td>\n",
       "      <td>0.0</td>\n",
       "      <td>11136.0</td>\n",
       "      <td>14356.0</td>\n",
       "      <td>18780.0</td>\n",
       "      <td>174523.0</td>\n",
       "      <td>7644.0</td>\n",
       "    </tr>\n",
       "    <tr>\n",
       "      <th>avggift</th>\n",
       "      <td>3993.0</td>\n",
       "      <td>12.0</td>\n",
       "      <td>10.0</td>\n",
       "      <td>2.0</td>\n",
       "      <td>7.0</td>\n",
       "      <td>10.0</td>\n",
       "      <td>14.0</td>\n",
       "      <td>450.0</td>\n",
       "      <td>7.0</td>\n",
       "    </tr>\n",
       "    <tr>\n",
       "      <th>target_d</th>\n",
       "      <td>3993.0</td>\n",
       "      <td>16.0</td>\n",
       "      <td>13.0</td>\n",
       "      <td>1.0</td>\n",
       "      <td>10.0</td>\n",
       "      <td>14.0</td>\n",
       "      <td>20.0</td>\n",
       "      <td>200.0</td>\n",
       "      <td>10.0</td>\n",
       "    </tr>\n",
       "  </tbody>\n",
       "</table>\n",
       "</div>"
      ],
      "text/plain": [
       "                          count     mean      std   min      25%       50%  \\\n",
       "id                       3993.0  98929.0  58180.0  12.0  46153.0  101432.0   \n",
       "median_home_val          3993.0   1158.0   1033.0   0.0    548.0     803.0   \n",
       "median_household_income  3993.0    352.0    168.0   0.0    239.0     318.0   \n",
       "ic2                      3993.0    401.0    181.0   0.0    284.0     366.0   \n",
       "ic3                      3993.0    400.0    165.0   0.0    287.0     365.0   \n",
       "ic4                      3993.0    445.0    175.0   0.0    325.0     410.0   \n",
       "ic5                      3993.0  16456.0   9455.0   0.0  11136.0   14356.0   \n",
       "avggift                  3993.0     12.0     10.0   2.0      7.0      10.0   \n",
       "target_d                 3993.0     16.0     13.0   1.0     10.0      14.0   \n",
       "\n",
       "                              75%       max       iqr  \n",
       "id                       151653.0  191779.0  105500.0  \n",
       "median_home_val            1349.0    5982.0     801.0  \n",
       "median_household_income     425.0    1500.0     186.0  \n",
       "ic2                         478.0    1500.0     194.0  \n",
       "ic3                         480.0    1311.0     193.0  \n",
       "ic4                         528.0    1331.0     203.0  \n",
       "ic5                       18780.0  174523.0    7644.0  \n",
       "avggift                      14.0     450.0       7.0  \n",
       "target_d                     20.0     200.0      10.0  "
      ]
     },
     "execution_count": 6,
     "metadata": {},
     "output_type": "execute_result"
    }
   ],
   "source": [
    "summary = data.describe().T\n",
    "display(summary)\n",
    "\n",
    "summary['iqr'] = summary['75%']-summary['25%']\n",
    "summary = summary.apply(round) # lambda x: round(x, 2) # round, ndigits=2 # rounding\n",
    "summary"
   ]
  },
  {
   "cell_type": "markdown",
   "metadata": {},
   "source": [
    "#### Read a bit about [IQR: inter quartile range](https://medium.com/@vinitasilaparasetty/quartiles-for-beginners-in-data-science-2ca5a640b07b)"
   ]
  },
  {
   "cell_type": "markdown",
   "metadata": {},
   "source": [
    "![iqr](https://upload.wikimedia.org/wikipedia/commons/thumb/1/1a/Boxplot_vs_PDF.svg/1200px-Boxplot_vs_PDF.svg.png)"
   ]
  },
  {
   "cell_type": "markdown",
   "metadata": {},
   "source": [
    "IQR can be a good way to spot outliers (outliers are values too big or too small for your analysis)."
   ]
  },
  {
   "cell_type": "markdown",
   "metadata": {},
   "source": [
    "#### ------"
   ]
  },
  {
   "cell_type": "markdown",
   "metadata": {},
   "source": [
    "### Exploratory data analysis using Matplotlib"
   ]
  },
  {
   "cell_type": "code",
   "execution_count": 7,
   "metadata": {},
   "outputs": [
    {
     "data": {
      "image/png": "[encoded data removed]",
      "text/plain": [
       "<Figure size 432x288 with 1 Axes>"
      ]
     },
     "metadata": {
      "needs_background": "light"
     },
     "output_type": "display_data"
    }
   ],
   "source": [
    "plt.scatter(data['ic2'], data['ic3'])\n",
    "plt.show()"
   ]
  },
  {
   "cell_type": "code",
   "execution_count": 8,
   "metadata": {},
   "outputs": [
    {
     "data": {
      "image/png": "[encoded data removed]",
      "text/plain": [
       "<Figure size 432x288 with 1 Axes>"
      ]
     },
     "metadata": {
      "needs_background": "light"
     },
     "output_type": "display_data"
    }
   ],
   "source": [
    "data['median_home_val'].hist()\n",
    "plt.show()\n",
    "\n",
    "# xsticks()\n",
    "# ysticks()"
   ]
  },
  {
   "cell_type": "code",
   "execution_count": 9,
   "metadata": {},
   "outputs": [
    {
     "data": {
      "image/png": "[encoded data removed]",
      "text/plain": [
       "<Figure size 432x288 with 1 Axes>"
      ]
     },
     "metadata": {
      "needs_background": "light"
     },
     "output_type": "display_data"
    }
   ],
   "source": [
    "data['median_home_val'].hist(bins=40)\n",
    "plt.show()"
   ]
  },
  {
   "cell_type": "code",
   "execution_count": 10,
   "metadata": {},
   "outputs": [
    {
     "data": {
      "image/png": "[encoded data removed]",
      "text/plain": [
       "<Figure size 432x288 with 1 Axes>"
      ]
     },
     "metadata": {
      "needs_background": "light"
     },
     "output_type": "display_data"
    }
   ],
   "source": [
    "sns.distplot(data['median_home_val'], bins=20)\n",
    "plt.show()"
   ]
  },
  {
   "cell_type": "code",
   "execution_count": 11,
   "metadata": {},
   "outputs": [
    {
     "data": {
      "image/png": "[encoded data removed]",
      "text/plain": [
       "<Figure size 432x288 with 1 Axes>"
      ]
     },
     "metadata": {
      "needs_background": "light"
     },
     "output_type": "display_data"
    }
   ],
   "source": [
    "plt.boxplot(data['ic4'])\n",
    "plt.show()"
   ]
  },
  {
   "cell_type": "code",
   "execution_count": 12,
   "metadata": {},
   "outputs": [
    {
     "data": {
      "image/png": "[encoded data removed]",
      "text/plain": [
       "<Figure size 432x288 with 1 Axes>"
      ]
     },
     "metadata": {
      "needs_background": "light"
     },
     "output_type": "display_data"
    }
   ],
   "source": [
    "data[['median_home_val']].boxplot()\n",
    "plt.show()"
   ]
  },
  {
   "cell_type": "code",
   "execution_count": 13,
   "metadata": {},
   "outputs": [
    {
     "data": {
      "image/png": "[encoded data removed]",
      "text/plain": [
       "<Figure size 432x288 with 1 Axes>"
      ]
     },
     "metadata": {
      "needs_background": "light"
     },
     "output_type": "display_data"
    }
   ],
   "source": [
    "sns.boxplot(x=\"median_home_val\", data=data) # same as sns.boxplot(data[\"median_home_val\"])\n",
    "plt.show()"
   ]
  },
  {
   "cell_type": "code",
   "execution_count": 14,
   "metadata": {},
   "outputs": [],
   "source": [
    "data1 = data[(data['gender']=='M') | (data['gender'] == 'F')]"
   ]
  },
  {
   "cell_type": "code",
   "execution_count": 15,
   "metadata": {},
   "outputs": [
    {
     "data": {
      "image/png": "[encoded data removed]",
      "text/plain": [
       "<Figure size 432x288 with 1 Axes>"
      ]
     },
     "metadata": {
      "needs_background": "light"
     },
     "output_type": "display_data"
    }
   ],
   "source": [
    "sns.boxplot(x='gender', y='median_home_val', data=data1)\n",
    "plt.show()"
   ]
  },
  {
   "cell_type": "code",
   "execution_count": 16,
   "metadata": {},
   "outputs": [
    {
     "data": {
      "image/png": "[encoded data removed]",
      "text/plain": [
       "<Figure size 1152x576 with 1 Axes>"
      ]
     },
     "metadata": {
      "needs_background": "light"
     },
     "output_type": "display_data"
    }
   ],
   "source": [
    "plt.figure(figsize=(16,8))\n",
    "\n",
    "sns.barplot(x=\"state\", y=\"median_home_val\", data=data1)\n",
    "plt.show()"
   ]
  },
  {
   "cell_type": "code",
   "execution_count": 17,
   "metadata": {},
   "outputs": [
    {
     "data": {
      "image/png": "[encoded data removed]",
      "text/plain": [
       "<Figure size 1152x1152 with 1 Axes>"
      ]
     },
     "metadata": {
      "needs_background": "light"
     },
     "output_type": "display_data"
    }
   ],
   "source": [
    "plt.figure(figsize=(16,16))\n",
    "\n",
    "sns.barplot(y=\"state\", x=\"median_home_val\", hue='gender', data=data1)\n",
    "plt.show()"
   ]
  },
  {
   "cell_type": "code",
   "execution_count": 18,
   "metadata": {},
   "outputs": [
    {
     "data": {
      "text/plain": [
       "<AxesSubplot:xlabel='state', ylabel='count'>"
      ]
     },
     "execution_count": 18,
     "metadata": {},
     "output_type": "execute_result"
    },
    {
     "data": {
      "image/png": "[encoded data removed]",
      "text/plain": [
       "<Figure size 864x576 with 1 Axes>"
      ]
     },
     "metadata": {
      "needs_background": "light"
     },
     "output_type": "display_data"
    }
   ],
   "source": [
    "plt.figure(figsize=(12,8))\n",
    "sns.countplot('state', hue='gender', data=data1)"
   ]
  },
  {
   "cell_type": "code",
   "execution_count": 19,
   "metadata": {},
   "outputs": [
    {
     "data": {
      "image/png": "[encoded data removed]",
      "text/plain": [
       "<Figure size 432x288 with 4 Axes>"
      ]
     },
     "metadata": {
      "needs_background": "light"
     },
     "output_type": "display_data"
    }
   ],
   "source": [
    "# multiple plots in the same space\n",
    "\n",
    "fig, axs = plt.subplots(2, 2)\n",
    "\n",
    "axs[0, 0].hist(data['median_home_val'])\n",
    "axs[0, 1].hist(data['ic4'])\n",
    "axs[1, 0].hist(data['ic3'])\n",
    "axs[1, 1].hist(data['ic2'])\n",
    "\n",
    "plt.show()"
   ]
  },
  {
   "cell_type": "code",
   "execution_count": 20,
   "metadata": {},
   "outputs": [],
   "source": [
    "axs[1, 0].hist(data['ic3'])\n",
    "axs[1, 1].hist(data['ic2'])\n",
    "\n",
    "plt.show()"
   ]
  },
  {
   "cell_type": "code",
   "execution_count": 21,
   "metadata": {},
   "outputs": [],
   "source": [
    "# show histplot with percent: sns.histplot(data=data, x='Sales Channel', hue='Response', stat='percent') "
   ]
  },
  {
   "cell_type": "markdown",
   "metadata": {},
   "source": [
    "#### ------"
   ]
  },
  {
   "cell_type": "markdown",
   "metadata": {},
   "source": [
    "### Intro to Correlation and Covariance\n",
    "Measures the relationship and the dependency between two variables. “Covariance” indicates the direction of the linear relationship between variables. “Correlation” measures the direction and strength of the linear relationship between two variables. They can be calculated by:\n",
    "* Pearson: measure the strength of linear correlation; (continuos data)\n",
    "* Spearman: measure the strength of non-linear correlation also; (continuous and discrete/ordinal data)\n",
    "* Kendall: similar to Spearman, but values are closer to zero and is less sensitive to outliers.\n",
    "\n",
    "#### A more dense read [here](https://towardsdatascience.com/under-the-hood-correlation-and-collinearity-b6674b1fb33b)"
   ]
  },
  {
   "cell_type": "code",
   "execution_count": 22,
   "metadata": {},
   "outputs": [
    {
     "data": {
      "image/png": "[encoded data removed]",
      "text/plain": [
       "<Figure size 432x288 with 1 Axes>"
      ]
     },
     "metadata": {
      "needs_background": "light"
     },
     "output_type": "display_data"
    }
   ],
   "source": [
    "x = data['ic2']\n",
    "y = data['ic3']\n",
    "\n",
    "plt.scatter(x, y)\n",
    "plt.show()"
   ]
  },
  {
   "cell_type": "code",
   "execution_count": 23,
   "metadata": {},
   "outputs": [
    {
     "data": {
      "text/plain": [
       "0.9535853403294166"
      ]
     },
     "execution_count": 23,
     "metadata": {},
     "output_type": "execute_result"
    }
   ],
   "source": [
    "x.corr(y) # standard is 'pearson', method='spearman'"
   ]
  },
  {
   "cell_type": "code",
   "execution_count": 24,
   "metadata": {},
   "outputs": [
    {
     "data": {
      "text/html": [
       "<div>\n",
       "<style scoped>\n",
       "    .dataframe tbody tr th:only-of-type {\n",
       "        vertical-align: middle;\n",
       "    }\n",
       "\n",
       "    .dataframe tbody tr th {\n",
       "        vertical-align: top;\n",
       "    }\n",
       "\n",
       "    .dataframe thead th {\n",
       "        text-align: right;\n",
       "    }\n",
       "</style>\n",
       "<table border=\"1\" class=\"dataframe\">\n",
       "  <thead>\n",
       "    <tr style=\"text-align: right;\">\n",
       "      <th></th>\n",
       "      <th>id</th>\n",
       "      <th>median_home_val</th>\n",
       "      <th>median_household_income</th>\n",
       "      <th>ic2</th>\n",
       "      <th>ic3</th>\n",
       "      <th>ic4</th>\n",
       "      <th>ic5</th>\n",
       "      <th>avggift</th>\n",
       "      <th>target_d</th>\n",
       "    </tr>\n",
       "  </thead>\n",
       "  <tbody>\n",
       "    <tr>\n",
       "      <th>id</th>\n",
       "      <td>1.000000</td>\n",
       "      <td>0.254797</td>\n",
       "      <td>0.100530</td>\n",
       "      <td>0.093142</td>\n",
       "      <td>0.107530</td>\n",
       "      <td>0.098264</td>\n",
       "      <td>0.094923</td>\n",
       "      <td>0.046169</td>\n",
       "      <td>0.042353</td>\n",
       "    </tr>\n",
       "    <tr>\n",
       "      <th>median_home_val</th>\n",
       "      <td>0.254797</td>\n",
       "      <td>1.000000</td>\n",
       "      <td>0.728291</td>\n",
       "      <td>0.743631</td>\n",
       "      <td>0.772365</td>\n",
       "      <td>0.771694</td>\n",
       "      <td>0.760386</td>\n",
       "      <td>0.162951</td>\n",
       "      <td>0.134380</td>\n",
       "    </tr>\n",
       "    <tr>\n",
       "      <th>median_household_income</th>\n",
       "      <td>0.100530</td>\n",
       "      <td>0.728291</td>\n",
       "      <td>1.000000</td>\n",
       "      <td>0.943243</td>\n",
       "      <td>0.972989</td>\n",
       "      <td>0.920689</td>\n",
       "      <td>0.810895</td>\n",
       "      <td>0.140062</td>\n",
       "      <td>0.136896</td>\n",
       "    </tr>\n",
       "    <tr>\n",
       "      <th>ic2</th>\n",
       "      <td>0.093142</td>\n",
       "      <td>0.743631</td>\n",
       "      <td>0.943243</td>\n",
       "      <td>1.000000</td>\n",
       "      <td>0.951062</td>\n",
       "      <td>0.970592</td>\n",
       "      <td>0.872129</td>\n",
       "      <td>0.148673</td>\n",
       "      <td>0.141259</td>\n",
       "    </tr>\n",
       "    <tr>\n",
       "      <th>ic3</th>\n",
       "      <td>0.107530</td>\n",
       "      <td>0.772365</td>\n",
       "      <td>0.972989</td>\n",
       "      <td>0.951062</td>\n",
       "      <td>1.000000</td>\n",
       "      <td>0.967619</td>\n",
       "      <td>0.875048</td>\n",
       "      <td>0.150231</td>\n",
       "      <td>0.146423</td>\n",
       "    </tr>\n",
       "    <tr>\n",
       "      <th>ic4</th>\n",
       "      <td>0.098264</td>\n",
       "      <td>0.771694</td>\n",
       "      <td>0.920689</td>\n",
       "      <td>0.970592</td>\n",
       "      <td>0.967619</td>\n",
       "      <td>1.000000</td>\n",
       "      <td>0.918519</td>\n",
       "      <td>0.151864</td>\n",
       "      <td>0.145651</td>\n",
       "    </tr>\n",
       "    <tr>\n",
       "      <th>ic5</th>\n",
       "      <td>0.094923</td>\n",
       "      <td>0.760386</td>\n",
       "      <td>0.810895</td>\n",
       "      <td>0.872129</td>\n",
       "      <td>0.875048</td>\n",
       "      <td>0.918519</td>\n",
       "      <td>1.000000</td>\n",
       "      <td>0.146437</td>\n",
       "      <td>0.141359</td>\n",
       "    </tr>\n",
       "    <tr>\n",
       "      <th>avggift</th>\n",
       "      <td>0.046169</td>\n",
       "      <td>0.162951</td>\n",
       "      <td>0.140062</td>\n",
       "      <td>0.148673</td>\n",
       "      <td>0.150231</td>\n",
       "      <td>0.151864</td>\n",
       "      <td>0.146437</td>\n",
       "      <td>1.000000</td>\n",
       "      <td>0.750530</td>\n",
       "    </tr>\n",
       "    <tr>\n",
       "      <th>target_d</th>\n",
       "      <td>0.042353</td>\n",
       "      <td>0.134380</td>\n",
       "      <td>0.136896</td>\n",
       "      <td>0.141259</td>\n",
       "      <td>0.146423</td>\n",
       "      <td>0.145651</td>\n",
       "      <td>0.141359</td>\n",
       "      <td>0.750530</td>\n",
       "      <td>1.000000</td>\n",
       "    </tr>\n",
       "  </tbody>\n",
       "</table>\n",
       "</div>"
      ],
      "text/plain": [
       "                               id  median_home_val  median_household_income  \\\n",
       "id                       1.000000         0.254797                 0.100530   \n",
       "median_home_val          0.254797         1.000000                 0.728291   \n",
       "median_household_income  0.100530         0.728291                 1.000000   \n",
       "ic2                      0.093142         0.743631                 0.943243   \n",
       "ic3                      0.107530         0.772365                 0.972989   \n",
       "ic4                      0.098264         0.771694                 0.920689   \n",
       "ic5                      0.094923         0.760386                 0.810895   \n",
       "avggift                  0.046169         0.162951                 0.140062   \n",
       "target_d                 0.042353         0.134380                 0.136896   \n",
       "\n",
       "                              ic2       ic3       ic4       ic5   avggift  \\\n",
       "id                       0.093142  0.107530  0.098264  0.094923  0.046169   \n",
       "median_home_val          0.743631  0.772365  0.771694  0.760386  0.162951   \n",
       "median_household_income  0.943243  0.972989  0.920689  0.810895  0.140062   \n",
       "ic2                      1.000000  0.951062  0.970592  0.872129  0.148673   \n",
       "ic3                      0.951062  1.000000  0.967619  0.875048  0.150231   \n",
       "ic4                      0.970592  0.967619  1.000000  0.918519  0.151864   \n",
       "ic5                      0.872129  0.875048  0.918519  1.000000  0.146437   \n",
       "avggift                  0.148673  0.150231  0.151864  0.146437  1.000000   \n",
       "target_d                 0.141259  0.146423  0.145651  0.141359  0.750530   \n",
       "\n",
       "                         target_d  \n",
       "id                       0.042353  \n",
       "median_home_val          0.134380  \n",
       "median_household_income  0.136896  \n",
       "ic2                      0.141259  \n",
       "ic3                      0.146423  \n",
       "ic4                      0.145651  \n",
       "ic5                      0.141359  \n",
       "avggift                  0.750530  \n",
       "target_d                 1.000000  "
      ]
     },
     "execution_count": 24,
     "metadata": {},
     "output_type": "execute_result"
    }
   ],
   "source": [
    "data.corr(method='spearman')#['target_d']"
   ]
  },
  {
   "cell_type": "code",
   "execution_count": 25,
   "metadata": {},
   "outputs": [
    {
     "data": {
      "text/plain": [
       "((0.953585340329417, 0.0),\n",
       " SpearmanrResult(correlation=0.9510617375454639, pvalue=0.0),\n",
       " KendalltauResult(correlation=0.8254641303546064, pvalue=0.0))"
      ]
     },
     "execution_count": 25,
     "metadata": {},
     "output_type": "execute_result"
    }
   ],
   "source": [
    "# Extra: \n",
    "stats.pearsonr(x, y), stats.spearmanr(x, y), stats.kendalltau(x, y)"
   ]
  },
  {
   "cell_type": "markdown",
   "metadata": {},
   "source": [
    "#### ------"
   ]
  },
  {
   "cell_type": "code",
   "execution_count": 26,
   "metadata": {},
   "outputs": [
    {
     "data": {
      "text/html": [
       "<div>\n",
       "<style scoped>\n",
       "    .dataframe tbody tr th:only-of-type {\n",
       "        vertical-align: middle;\n",
       "    }\n",
       "\n",
       "    .dataframe tbody tr th {\n",
       "        vertical-align: top;\n",
       "    }\n",
       "\n",
       "    .dataframe thead th {\n",
       "        text-align: right;\n",
       "    }\n",
       "</style>\n",
       "<table border=\"1\" class=\"dataframe\">\n",
       "  <thead>\n",
       "    <tr style=\"text-align: right;\">\n",
       "      <th></th>\n",
       "      <th>id</th>\n",
       "      <th>median_home_val</th>\n",
       "      <th>median_household_income</th>\n",
       "      <th>ic2</th>\n",
       "      <th>ic3</th>\n",
       "      <th>ic4</th>\n",
       "      <th>ic5</th>\n",
       "      <th>avggift</th>\n",
       "      <th>target_d</th>\n",
       "    </tr>\n",
       "  </thead>\n",
       "  <tbody>\n",
       "    <tr>\n",
       "      <th>id</th>\n",
       "      <td>1.000000</td>\n",
       "      <td>0.249922</td>\n",
       "      <td>0.099182</td>\n",
       "      <td>0.092586</td>\n",
       "      <td>0.105039</td>\n",
       "      <td>0.098233</td>\n",
       "      <td>0.072773</td>\n",
       "      <td>-0.004794</td>\n",
       "      <td>0.028057</td>\n",
       "    </tr>\n",
       "    <tr>\n",
       "      <th>median_home_val</th>\n",
       "      <td>0.249922</td>\n",
       "      <td>1.000000</td>\n",
       "      <td>0.707209</td>\n",
       "      <td>0.743318</td>\n",
       "      <td>0.734526</td>\n",
       "      <td>0.748761</td>\n",
       "      <td>0.745223</td>\n",
       "      <td>0.138966</td>\n",
       "      <td>0.116805</td>\n",
       "    </tr>\n",
       "    <tr>\n",
       "      <th>median_household_income</th>\n",
       "      <td>0.099182</td>\n",
       "      <td>0.707209</td>\n",
       "      <td>1.000000</td>\n",
       "      <td>0.951409</td>\n",
       "      <td>0.974777</td>\n",
       "      <td>0.928980</td>\n",
       "      <td>0.805221</td>\n",
       "      <td>0.120445</td>\n",
       "      <td>0.113246</td>\n",
       "    </tr>\n",
       "    <tr>\n",
       "      <th>ic2</th>\n",
       "      <td>0.092586</td>\n",
       "      <td>0.743318</td>\n",
       "      <td>0.951409</td>\n",
       "      <td>1.000000</td>\n",
       "      <td>0.953585</td>\n",
       "      <td>0.971498</td>\n",
       "      <td>0.874783</td>\n",
       "      <td>0.136096</td>\n",
       "      <td>0.129964</td>\n",
       "    </tr>\n",
       "    <tr>\n",
       "      <th>ic3</th>\n",
       "      <td>0.105039</td>\n",
       "      <td>0.734526</td>\n",
       "      <td>0.974777</td>\n",
       "      <td>0.953585</td>\n",
       "      <td>1.000000</td>\n",
       "      <td>0.971909</td>\n",
       "      <td>0.827514</td>\n",
       "      <td>0.125438</td>\n",
       "      <td>0.121965</td>\n",
       "    </tr>\n",
       "    <tr>\n",
       "      <th>ic4</th>\n",
       "      <td>0.098233</td>\n",
       "      <td>0.748761</td>\n",
       "      <td>0.928980</td>\n",
       "      <td>0.971498</td>\n",
       "      <td>0.971909</td>\n",
       "      <td>1.000000</td>\n",
       "      <td>0.868411</td>\n",
       "      <td>0.132438</td>\n",
       "      <td>0.131260</td>\n",
       "    </tr>\n",
       "    <tr>\n",
       "      <th>ic5</th>\n",
       "      <td>0.072773</td>\n",
       "      <td>0.745223</td>\n",
       "      <td>0.805221</td>\n",
       "      <td>0.874783</td>\n",
       "      <td>0.827514</td>\n",
       "      <td>0.868411</td>\n",
       "      <td>1.000000</td>\n",
       "      <td>0.141580</td>\n",
       "      <td>0.137878</td>\n",
       "    </tr>\n",
       "    <tr>\n",
       "      <th>avggift</th>\n",
       "      <td>-0.004794</td>\n",
       "      <td>0.138966</td>\n",
       "      <td>0.120445</td>\n",
       "      <td>0.136096</td>\n",
       "      <td>0.125438</td>\n",
       "      <td>0.132438</td>\n",
       "      <td>0.141580</td>\n",
       "      <td>1.000000</td>\n",
       "      <td>0.487595</td>\n",
       "    </tr>\n",
       "    <tr>\n",
       "      <th>target_d</th>\n",
       "      <td>0.028057</td>\n",
       "      <td>0.116805</td>\n",
       "      <td>0.113246</td>\n",
       "      <td>0.129964</td>\n",
       "      <td>0.121965</td>\n",
       "      <td>0.131260</td>\n",
       "      <td>0.137878</td>\n",
       "      <td>0.487595</td>\n",
       "      <td>1.000000</td>\n",
       "    </tr>\n",
       "  </tbody>\n",
       "</table>\n",
       "</div>"
      ],
      "text/plain": [
       "                               id  median_home_val  median_household_income  \\\n",
       "id                       1.000000         0.249922                 0.099182   \n",
       "median_home_val          0.249922         1.000000                 0.707209   \n",
       "median_household_income  0.099182         0.707209                 1.000000   \n",
       "ic2                      0.092586         0.743318                 0.951409   \n",
       "ic3                      0.105039         0.734526                 0.974777   \n",
       "ic4                      0.098233         0.748761                 0.928980   \n",
       "ic5                      0.072773         0.745223                 0.805221   \n",
       "avggift                 -0.004794         0.138966                 0.120445   \n",
       "target_d                 0.028057         0.116805                 0.113246   \n",
       "\n",
       "                              ic2       ic3       ic4       ic5   avggift  \\\n",
       "id                       0.092586  0.105039  0.098233  0.072773 -0.004794   \n",
       "median_home_val          0.743318  0.734526  0.748761  0.745223  0.138966   \n",
       "median_household_income  0.951409  0.974777  0.928980  0.805221  0.120445   \n",
       "ic2                      1.000000  0.953585  0.971498  0.874783  0.136096   \n",
       "ic3                      0.953585  1.000000  0.971909  0.827514  0.125438   \n",
       "ic4                      0.971498  0.971909  1.000000  0.868411  0.132438   \n",
       "ic5                      0.874783  0.827514  0.868411  1.000000  0.141580   \n",
       "avggift                  0.136096  0.125438  0.132438  0.141580  1.000000   \n",
       "target_d                 0.129964  0.121965  0.131260  0.137878  0.487595   \n",
       "\n",
       "                         target_d  \n",
       "id                       0.028057  \n",
       "median_home_val          0.116805  \n",
       "median_household_income  0.113246  \n",
       "ic2                      0.129964  \n",
       "ic3                      0.121965  \n",
       "ic4                      0.131260  \n",
       "ic5                      0.137878  \n",
       "avggift                  0.487595  \n",
       "target_d                 1.000000  "
      ]
     },
     "execution_count": 26,
     "metadata": {},
     "output_type": "execute_result"
    }
   ],
   "source": [
    "corr_data = data.select_dtypes([np.number])\n",
    "correlations_matrix = corr_data.corr()  # method='spearman'\n",
    "correlations_matrix"
   ]
  },
  {
   "cell_type": "code",
   "execution_count": 27,
   "metadata": {},
   "outputs": [
    {
     "data": {
      "text/plain": [
       "avggift     0.487595\n",
       "target_d    1.000000\n",
       "Name: target_d, dtype: float64"
      ]
     },
     "execution_count": 27,
     "metadata": {},
     "output_type": "execute_result"
    }
   ],
   "source": [
    "correlations_matrix[(correlations_matrix['target_d'] > .2) | (correlations_matrix['target_d'] < -.2)]['target_d']"
   ]
  },
  {
   "cell_type": "code",
   "execution_count": 28,
   "metadata": {},
   "outputs": [
    {
     "data": {
      "image/png": "[encoded data removed]",
      "text/plain": [
       "<Figure size 432x288 with 2 Axes>"
      ]
     },
     "metadata": {
      "needs_background": "light"
     },
     "output_type": "display_data"
    }
   ],
   "source": [
    "sns_plot = sns.heatmap(correlations_matrix, annot=True)\n",
    "figure = sns_plot.get_figure()    \n",
    "figure.savefig('svm_conf.png', dpi=400)\n",
    "plt.show()\n",
    "# plt.savefig('name_i_want.png')"
   ]
  },
  {
   "cell_type": "code",
   "execution_count": 29,
   "metadata": {},
   "outputs": [
    {
     "data": {
      "image/png": "[encoded data removed]",
      "text/plain": [
       "<Figure size 720x576 with 2 Axes>"
      ]
     },
     "metadata": {
      "needs_background": "light"
     },
     "output_type": "display_data"
    }
   ],
   "source": [
    "mask = np.zeros_like(correlations_matrix)\n",
    "\n",
    "mask[np.triu_indices_from(mask)] = True # optional, to hide repeat half of the matrix\n",
    "\n",
    "fig, ax = plt.subplots(figsize=(10, 8))\n",
    "ax = sns.heatmap(correlations_matrix, mask=mask, annot=True)\n",
    "plt.show()"
   ]
  },
  {
   "cell_type": "code",
   "execution_count": null,
   "metadata": {},
   "outputs": [],
   "source": []
  }
 ],
 "metadata": {
  "kernelspec": {
   "display_name": "Python 3",
   "language": "python",
   "name": "python3"
  },
  "language_info": {
   "codemirror_mode": {
    "name": "ipython",
    "version": 3
   },
   "file_extension": ".py",
   "mimetype": "text/x-python",
   "name": "python",
   "nbconvert_exporter": "python",
   "pygments_lexer": "ipython3",
   "version": "3.9.2"
  }
 },
 "nbformat": 4,
 "nbformat_minor": 4
}
